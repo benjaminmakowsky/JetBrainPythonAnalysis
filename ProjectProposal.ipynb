{
 "cells": [
  {
   "cell_type": "markdown",
   "metadata": {},
   "source": [
    "# COGS 108 - Project Proposal"
   ]
  },
  {
   "cell_type": "markdown",
   "metadata": {},
   "source": [
    "## Important\n",
    "\n",
    "- Make sure all group members (3-6 people) are listed in the group members section.\n",
    "- ONE, and only one, member of your group should upload this notebook to TritonED. \n",
    "- Each member of the group will receive the same grade on this assignment. \n",
    "- Keep the file name the same: submit the file 'ProjectProposal.ipynb'"
   ]
  },
  {
   "cell_type": "markdown",
   "metadata": {},
   "source": [
    "## Overview"
   ]
  },
  {
   "cell_type": "markdown",
   "metadata": {},
   "source": [
    "Read the project description and detailed instructions for this assignment in the 'ProjectOutline' document."
   ]
  },
  {
   "cell_type": "markdown",
   "metadata": {},
   "source": [
    "## Group Members: Fill in the Student IDs of each group member here\n",
    "\n",
    "Replace the lines below to list each persons full student ID. Add lines as needed for your group size, and make sure each ID is listed on a separate line. \n",
    "\n",
    "- A14726324"
   ]
  },
  {
   "cell_type": "markdown",
   "metadata": {},
   "source": [
    "### Research Question\n",
    "\n",
    "What is your research question? (1-2 sentences)"
   ]
  },
  {
   "cell_type": "markdown",
   "metadata": {},
   "source": [
    "    How is python being used around the world? What are the majority of people using it for?"
   ]
  },
  {
   "cell_type": "markdown",
   "metadata": {},
   "source": [
    "### Hypothesis\n",
    "\n",
    "What is your main hypothesis and predictions? (2-3 sentences)"
   ]
  },
  {
   "cell_type": "markdown",
   "metadata": {},
   "source": [
    "    Python is primarily being used for machine learning due to it extensibility and ease of use."
   ]
  },
  {
   "cell_type": "markdown",
   "metadata": {},
   "source": [
    "### Dataset(s)\n",
    "\n",
    "What data will you use to answer your question? Describe the dataset(s) in terms of number of observations, what kind of features it contains, etc. You must use at least one dataset containing at least approximately 1000 observations (if your data are smaller but you feel they are sufficient, email Prof. Voytek). You are welcome (and in fact recommended) to find multiple datasets! If you do so, describe each one, and briefly explain how you will combine them together. "
   ]
  },
  {
   "cell_type": "markdown",
   "metadata": {},
   "source": [
    "*Fill in your dataset information here*\n",
    "\n",
    "(Copy this information for each dataset)\n",
    "- Dataset Name: pythondevsurvey2017_raw_data.csv\n",
    "- Link to the dataset: https://www.kaggle.com/paultimothymooney/python-developers-survey-2018/version/2#\n",
    "- Number of observations: 9506 \n",
    "\n",
    "\n",
    "- Dataset Name: python_psf_external_18.csv\n",
    "- Link to the dataset: https://www.kaggle.com/paultimothymooney/python-developers-survey-2018/version/2#\n",
    "- Number of observations: 19835\n",
    "\n",
    "1-2 sentences describing the dataset. \n",
    "\n",
    "If you plan to use multiple datasets, add 1-2 sentences about how you plan to combine these datasets.\n",
    "\n",
    "> I plan on using two datasets because I wanted to be able to compare the uses of python between 2017 and 2018. Because machine learning seems to be the hot work right now in data science I wanted to see just how rapidly it's groth is affecting the python community."
   ]
  },
  {
   "cell_type": "markdown",
   "metadata": {},
   "source": [
    "### Background and Prior Work\n",
    "\n",
    "Why is this question of interest, what background information led you to your hypothesis, and why is this important?\n",
    "\n",
    "Find some relevant prior work, and reference those sources. Even if you think you have a totally novel question, find the most similar prior work that you can and discuss how it relates to your project. \n",
    "\n",
    "References can be research publications, but they need not be. Blogs, github repositories, company websites, etc., are all viable references if they are relevant to your project.\n",
    "\n",
    "(2-3 paragraphs, including at least 2 references)"
   ]
  },
  {
   "cell_type": "markdown",
   "metadata": {},
   "source": [
    "***\n",
    "> This question is of interest because it directly pertains to this class and because this class really caught my interest, I was interested in researching for myself just how python is being used. What lead me to my hypothesis is that everywhere on my Google news feed it is talking about python and machine learning together. This lead me to believe that python's main use is for machine learning. Knowing how python is being used is important because I want to know what kind of careers are available based on my knowledge of python.\n",
    "\n",
    "> From what I can see it looks as though python is used a vast array of technologies and sciences. I did not realize that it was used so much in science for data analysis. While the jetbrains articles has a very in depth analysis of the use of python is does not make a comparison between 2017 and 2018 and that is where I will focus on my research. It does mention how the largest growth of users is in machine learning but it does not show in detail the comparisons between 2017 and 2018. \n",
    "\n",
    "References (include links):\n",
    "- 1) https://www.jetbrains.com/research/python-developers-survey-2017/\n",
    "- 2) https://blog.teamtreehouse.com/what-is-python"
   ]
  },
  {
   "cell_type": "markdown",
   "metadata": {},
   "source": [
    "### Proposed Methods\n",
    "\n",
    "What methods will you use to analyze your data?\n",
    "\n",
    "- How 'clean' is the data? To the extent that it requires cleaning, how will you do so?\n",
    "- How will you analyze the data? Be as specific as you can. Briefly mention any pre-processing steps that are required for your methods (for example, checking data distributions and performing any transformations that may be required). Include a brief outline of how you will apply your chosen method(s). \n",
    "- What do you plan to report? Briefly mention any key visualizations you plan to create, and/or the kind of results you will be able to report that address your question (this could be, for example, the outcome of some statistical test(s), prediction error on a model, a model fit parameter, etc.).\n",
    "- Include a list of packages you expect to use for you project. If you plan to use packages we have not used in class, add a very brief description about them (a few words is sufficient). "
   ]
  },
  {
   "cell_type": "markdown",
   "metadata": {},
   "source": [
    "*Fill in your proposed methods information here:*\n",
    "\n",
    "**Data Cleaning (2-3 sentences)**\n",
    "\n",
    "> The data is a little messy. There are a lot of NaN values that need to be cleaned. The problem is that data was collected from a survey where user's selected appropriate answers and when they did not select some answers, it stored their answers as NaN. In order to clean the data I will have to find a way to ignore the NaN values when analyzing the data.\n",
    "\n",
    "**Data Analysis (1-2 paragraphs)**\n",
    "\n",
    "> Much of the data is going to need to be counted in order to perform the appropriate comparisons. Comparisons will need to be done with bar charts in order to show comparisons between the different uses of python other categorical information. Trends will be created and analyzed by using the difference in percentages between 2017 and 2018. Percentages will have to be used because there is a discrepency in the number of observations between 2017 and 2018. As a result there will be more observations in 2018 and it needs be normalized into percent in order to make numerical observations relevant.\n",
    "\n",
    "**What to report (2-3 sentences)**\n",
    "\n",
    "> I plan on reporting how the python laguage has evolved between 2017 and 2018 as more and more companies are looking to machine learning to better their projects. I plan on showing the growth of the different reported uses of python. I also intend to show how different countries are evolving the use of python and which uses of python are most prominent in each country.\n",
    "\n",
    "**Packages we plan to use:**\n",
    "- seaborn\n",
    "- matplotlib.pyplot\n",
    "- numpy"
   ]
  },
  {
   "cell_type": "markdown",
   "metadata": {},
   "source": [
    "### Ethics and Privacy\n",
    "\n",
    "Briefly acknowledge and address any potential issues of ethics and privacy for the proposed project. In particular:\n",
    "- Do you have permission to use this data, for this purpose?\n",
    "- Are there privacy concerns regarding your datasets that you need to deal with, and/or terms of use that you need to comply with?\n",
    "- Are there potential biases in your dataset(s), in terms of who it composes, and how it was collected, that may be problematic in terms of it allowing for equitable analysis? (For example, does your data exclude particular populations, or is it likely to reflect particular human biases in a way that could be a problem?) \n",
    "- Are there any other issues related to your topic area, data, and/or analyses that are potentially problematic in terms of data privacy and equitable impact?\n",
    "- How will you handle any issues you identify?\n",
    "\n",
    "(1-2 paragraphs) \n",
    "***\n",
    "> The data is listed as having a creative commons liscense and as such I have the appropriate permissions needed to do any analysis as needed. Because the data does not include names or any other personally identifiable information, there are no privacy concerns with the use or distribution of any of my analysis. Additonally, there are no biases within my data as it does not seperate populations in anyway other than making observations only from users who use python and not other languages. As a result, I do not expect the need to handle any issues with privacy or ethics."
   ]
  },
  {
   "cell_type": "markdown",
   "metadata": {},
   "source": [
    "### Discussion\n",
    "\n",
    "Discuss your project, looking forward to what your results might mean, how they fit it in with what is already known, and what problems you may encounter. \n",
    "\n",
    "In particular:\n",
    "- If your analyses and hypotheses are correct, what will be the contribution of this project to the topic domain? \n",
    "- Alternatively, what will you do if you methods don't work and/or your hypotheses are wrong? \n",
    "- What are the potential pitfalls and potential confounds of your data and/or methods that may cause problems, and/or influence your interpretations?\n",
    "\n",
    "(2-3 paragraphs)\n",
    "***"
   ]
  },
  {
   "cell_type": "markdown",
   "metadata": {},
   "source": [
    "*Fill in your discussion information here*"
   ]
  }
 ],
 "metadata": {
  "kernelspec": {
   "display_name": "Python 3",
   "language": "python",
   "name": "python3"
  },
  "language_info": {
   "codemirror_mode": {
    "name": "ipython",
    "version": 3
   },
   "file_extension": ".py",
   "mimetype": "text/x-python",
   "name": "python",
   "nbconvert_exporter": "python",
   "pygments_lexer": "ipython3",
   "version": "3.7.1"
  }
 },
 "nbformat": 4,
 "nbformat_minor": 2
}
